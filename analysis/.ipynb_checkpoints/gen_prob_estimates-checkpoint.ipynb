{
 "cells": [
  {
   "cell_type": "code",
   "execution_count": 1,
   "metadata": {
    "collapsed": true
   },
   "outputs": [],
   "source": [
    "import numpy as np \n",
    "import pickle\n",
    "import os \n",
    "# spec paths \n",
    "\n",
    "data_name = 'amy'\n",
    "out_pred_fname = 'predictions'\n",
    "\n",
    "# get file names for training and test set \n",
    "data_test_root = data_name+'_test'\n",
    "data_train_root = data_name+'_train'\n",
    "# construct all paths \n",
    "dict_test_path = os.path.join('..','data', data_test_root, 'vocab.pkl')\n",
    "dict_prob_path = os.path.join('..','data', data_train_root, 'vocab.pkl')\n",
    "text_path = os.path.join('..','data', data_test_root, 'data.npy')\n",
    "prob_path = os.path.join('..','data', data_test_root, 'probs.npz')\n",
    "out_pred_path = os.path.join('..','data', data_test_root, out_pred_fname + '.txt')\n",
    "\n",
    "\n",
    "# print test set text \n",
    "def print_test_set(n, text, vocab_test_dict): \n",
    "    temp = ''\n",
    "    for i in range(n):\n",
    "        temp += vocab_test_dict[text[i]] + ' '\n",
    "    print(temp)\n",
    "    \n",
    "def print_most_likely_preds(n, prob, vocab_prob_dict): \n",
    "    pred = ''\n",
    "    for i in range(n): \n",
    "        idx_top_k, prob_top_k = get_top_k_preds(k, prob[i,:], vocab_prob_dict) \n",
    "        most_likely_word = vocab_prob_dict[idx_top_k[0]]\n",
    "        pred += most_likely_word +' '\n",
    "    print(pred)"
   ]
  },
  {
   "cell_type": "code",
   "execution_count": 5,
   "metadata": {},
   "outputs": [
    {
     "name": "stdout",
     "output_type": "stream",
     "text": [
      "n_preds 984\n",
      "n_test_words 984\n",
      "top 1 words match rate = 0.059003\n",
      "top 2 words match rate = 0.112920\n",
      "top 3 words match rate = 0.148525\n",
      "top 4 words match rate = 0.175992\n",
      "top 5 words match rate = 0.192269\n",
      "top 6 words match rate = 0.210580\n",
      "top 7 words match rate = 0.226857\n",
      "top 8 words match rate = 0.245168\n",
      "top 9 words match rate = 0.262462\n"
     ]
    }
   ],
   "source": [
    "# load the dict that translates test set vs. probability estimates \n",
    "with open(dict_test_path, 'rb') as f: test_dict = pickle.load(f)\n",
    "with open(dict_prob_path, 'rb') as f: train_dict = pickle.load(f)\n",
    "\n",
    "# load test set text and probability estimates \n",
    "text = np.load(text_path)\n",
    "prob_recording = np.load(prob_path)\n",
    "\n",
    "# get min (pred set, test set) size \n",
    "n_test_words = np.shape(text)[0]\n",
    "prob = prob_recording['prob_table']\n",
    "idx_table = prob_recording['idx_table']\n",
    "n_preds = np.shape(prob)[0]\n",
    "n = np.min([n_test_words, n_preds])\n",
    "\n",
    "print('n_preds', n_preds)\n",
    "print('n_test_words', n_test_words)\n",
    "\n",
    "accuracy = []\n",
    "K_max = 10\n",
    "for k in range(1, K_max): \n",
    "    # print out the prediction \n",
    "    if k+1 == K_max: out_pred_file =  open(out_pred_path, \"w\")\n",
    "    # loop over all words \n",
    "    matches = 0 \n",
    "\n",
    "    for i in range(n): \n",
    "        idx_top_k, prob_top_k = idx_table[i,:k], prob[i,:k]\n",
    "        \n",
    "        words_top_k = []\n",
    "        for j in range(k): \n",
    "            words_top_k.append(train_dict[idx_top_k[j]])\n",
    "\n",
    "        if i < n - 1:\n",
    "            if test_dict[text[i+1]] in words_top_k:\n",
    "                matches +=1\n",
    "\n",
    "        curr_word = test_dict[text[i]]\n",
    "        if k+1 == K_max: \n",
    "            out_pred_file.write(curr_word +' '+ str(words_top_k) +' '+ str(prob_top_k)+'\\n')    \n",
    "    accuracy.append(matches / (n-1))\n",
    "    print('top %d words match rate = %f' % (k, accuracy[k-1]))\n",
    "out_pred_file.close()"
   ]
  },
  {
   "cell_type": "code",
   "execution_count": 6,
   "metadata": {},
   "outputs": [
    {
     "data": {
      "text/plain": [
       "<matplotlib.text.Text at 0x116157748>"
      ]
     },
     "execution_count": 6,
     "metadata": {},
     "output_type": "execute_result"
    },
    {
     "data": {
      "image/png": "[encoded data removed]",
      "text/plain": [
       "<matplotlib.figure.Figure at 0x10f4b39e8>"
      ]
     },
     "metadata": {},
     "output_type": "display_data"
    }
   ],
   "source": [
    "%matplotlib inline\n",
    "from matplotlib import pyplot as plt\n",
    "plt.plot(accuracy)\n",
    "plt.title('next word prediction')\n",
    "plt.ylabel('P(word_t+1 in top k)')\n",
    "plt.xlabel('k')"
   ]
  },
  {
   "cell_type": "code",
   "execution_count": null,
   "metadata": {
    "collapsed": true
   },
   "outputs": [],
   "source": []
  }
 ],
 "metadata": {
  "kernelspec": {
   "display_name": "Python 3",
   "language": "python",
   "name": "python3"
  },
  "language_info": {
   "codemirror_mode": {
    "name": "ipython",
    "version": 3
   },
   "file_extension": ".py",
   "mimetype": "text/x-python",
   "name": "python",
   "nbconvert_exporter": "python",
   "pygments_lexer": "ipython3",
   "version": "3.6.2"
  }
 },
 "nbformat": 4,
 "nbformat_minor": 2
}
